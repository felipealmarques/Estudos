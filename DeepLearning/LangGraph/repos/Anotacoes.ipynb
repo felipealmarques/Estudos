{
 "cells": [
  {
   "cell_type": "markdown",
   "id": "c811c2ed",
   "metadata": {},
   "source": [
    "# Anotações de Estudo - LangGraph\n",
    "\n",
    "Esse documento será utilizado para anotar os principais pontos estudados sobre a biblioteca LangGraph, através de vídeos, artigos e documentações oficiais. Toda documentação utilizada será referenciada na seção [Referências](#referências). As principais seções do documento estão listadas abaixo:\n",
    "\n",
    "$\\large{\\textrm{Referências Básicas}}$\n",
    "\n",
    "## Índice\n",
    "\n",
    "- [Introdução](#introdução)\n",
    "- [Conceitos Básicos](#conceitos-básicos)"
   ]
  },
  {
   "cell_type": "markdown",
   "id": "19e8f0c3",
   "metadata": {},
   "source": []
  }
 ],
 "metadata": {
  "language_info": {
   "name": "python"
  }
 },
 "nbformat": 4,
 "nbformat_minor": 5
}
